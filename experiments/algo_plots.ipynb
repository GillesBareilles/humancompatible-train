{
 "cells": [
  {
   "cell_type": "code",
   "execution_count": null,
   "metadata": {},
   "outputs": [],
   "source": [
    "import pandas as pd\n",
    "from utils.plotting import plot_time, plot_iter, plot_trajectories"
   ]
  },
  {
   "cell_type": "markdown",
   "metadata": {},
   "source": [
    "**Read results:**"
   ]
  },
  {
   "cell_type": "code",
   "execution_count": null,
   "metadata": {},
   "outputs": [],
   "source": [
    "# path to csv file with results\n",
    "\n",
    "TASK = \"income\"\n",
    "STATE = \"ok\"\n",
    "DATASET = TASK + \"_\" + STATE\n",
    "lb = 0.005\n",
    "alg = \"SSG\"\n",
    "alg_param_str = \"\"\n",
    "alg += alg_param_str\n",
    "constraint = \"loss\"\n",
    "\n",
    "filename = f\"./utils/exp_results/{alg}_\" + f\"{DATASET}_{lb}.csv\"\n",
    "\n",
    "stats = pd.read_csv(filename)\n",
    "if alg_param_str.startswith(\"_mu0\"):\n",
    "    alg = \"sslalm_aug\""
   ]
  },
  {
   "cell_type": "code",
   "execution_count": null,
   "metadata": {},
   "outputs": [],
   "source": [
    "stats_train = stats[stats[\"is_train\"] == \"train\"].drop([\"is_train\"], axis=1).dropna()\n",
    "stats_test = stats[stats[\"is_train\"] == \"test\"].drop([\"is_train\"], axis=1).dropna()"
   ]
  },
  {
   "cell_type": "markdown",
   "metadata": {},
   "source": [
    "**Plots w.r.t. time**"
   ]
  },
  {
   "cell_type": "code",
   "execution_count": null,
   "metadata": {},
   "outputs": [],
   "source": [
    "import os\n",
    "\n",
    "alg_name = \"sslalm_aug\" if alg.startswith(\"sslalm_mu0\") else alg.split(\"_\")[0]\n",
    "os.makedirs(os.path.dirname(f\"./plots/{alg}/{DATASET}/\"), exist_ok=True)"
   ]
  },
  {
   "cell_type": "code",
   "execution_count": null,
   "metadata": {},
   "outputs": [],
   "source": [
    "f1tr_time, f2tr_time = plot_time(\n",
    "    stats_train, lb, round_step=0.0005, f_ylim=(0.4, 0.77), c_ylim=(-0.12, 0.12)\n",
    ")"
   ]
  },
  {
   "cell_type": "code",
   "execution_count": null,
   "metadata": {},
   "outputs": [],
   "source": [
    "f1tr_time.savefig(\n",
    "    f\"./plots/{alg.removesuffix(alg_param_str)}/{DATASET}/loss_train_time_{DATASET}\"\n",
    ")\n",
    "f2tr_time.savefig(\n",
    "    f\"./plots/{alg.removesuffix(alg_param_str)}/{DATASET}/c_train_time_{DATASET}\"\n",
    ")\n",
    "print(f\"./plots/{alg.removesuffix(alg_param_str)}/{DATASET}\")"
   ]
  },
  {
   "cell_type": "code",
   "execution_count": null,
   "metadata": {},
   "outputs": [],
   "source": [
    "f1t_time, f2t_time = plot_time(\n",
    "    stats_test, lb, round_step=0.0005, f_ylim=(0.4, 0.77), c_ylim=(-0.12, 0.1)\n",
    ")"
   ]
  },
  {
   "cell_type": "code",
   "execution_count": null,
   "metadata": {},
   "outputs": [],
   "source": [
    "f1t_time.savefig(\n",
    "    f\"./plots/{alg.removesuffix(alg_param_str)}/{DATASET}/loss_test_time_{DATASET}\"\n",
    ")\n",
    "f2t_time.savefig(\n",
    "    f\"./plots/{alg.removesuffix(alg_param_str)}/{DATASET}/c_test_time_{DATASET}\"\n",
    ")\n",
    "print(f\"./plots/{alg.removesuffix(alg_param_str)}/{DATASET}\")"
   ]
  },
  {
   "cell_type": "markdown",
   "metadata": {},
   "source": [
    "**Plots w.r.t. iteration**"
   ]
  },
  {
   "cell_type": "code",
   "execution_count": null,
   "metadata": {},
   "outputs": [],
   "source": [
    "stats_train[[\"trial\", \"iteration\"]].groupby(by=\"trial\").max().mean()"
   ]
  },
  {
   "cell_type": "code",
   "execution_count": null,
   "metadata": {},
   "outputs": [],
   "source": [
    "f1tr, f2tr = plot_iter(stats_train, lb, \"iteration\")"
   ]
  },
  {
   "cell_type": "code",
   "execution_count": null,
   "metadata": {},
   "outputs": [],
   "source": [
    "f1t, f2t = plot_iter(stats_test, lb, \"iteration\")"
   ]
  },
  {
   "cell_type": "markdown",
   "metadata": {},
   "source": [
    "**Trajectories:**"
   ]
  },
  {
   "cell_type": "code",
   "execution_count": null,
   "metadata": {},
   "outputs": [],
   "source": [
    "plot_trajectories(stats_train, lb, \"iteration\", alpha=1)"
   ]
  }
 ],
 "metadata": {
  "kernelspec": {
   "display_name": "humancompatible",
   "language": "python",
   "name": "python3"
  },
  "language_info": {
   "codemirror_mode": {
    "name": "ipython",
    "version": 3
   },
   "file_extension": ".py",
   "mimetype": "text/x-python",
   "name": "python",
   "nbconvert_exporter": "python",
   "pygments_lexer": "ipython3"
  }
 },
 "nbformat": 4,
 "nbformat_minor": 2
}
